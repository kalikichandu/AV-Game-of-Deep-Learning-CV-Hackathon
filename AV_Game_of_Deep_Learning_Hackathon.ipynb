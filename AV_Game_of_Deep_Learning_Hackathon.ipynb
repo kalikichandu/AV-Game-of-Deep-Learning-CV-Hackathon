{
 "cells": [
  {
   "cell_type": "code",
   "execution_count": 0,
   "metadata": {
    "id": "12CGfAnGPU6i",
    "colab_type": "code",
    "outputId": "916b29d6-30e1-433a-8392-e08c1de4123a",
    "colab": {
     "base_uri": "https://localhost:8080/",
     "height": 122.0
    }
   },
   "outputs": [
    {
     "name": "stdout",
     "output_type": "stream",
     "text": [
      "Go to this URL in a browser: https://accounts.google.com/o/oauth2/auth?client_id=947318989803-6bn6qk8qdgf4n4g3pfee6491hc0brc4i.apps.googleusercontent.com&redirect_uri=urn%3Aietf%3Awg%3Aoauth%3A2.0%3Aoob&scope=email%20https%3A%2F%2Fwww.googleapis.com%2Fauth%2Fdocs.test%20https%3A%2F%2Fwww.googleapis.com%2Fauth%2Fdrive%20https%3A%2F%2Fwww.googleapis.com%2Fauth%2Fdrive.photos.readonly%20https%3A%2F%2Fwww.googleapis.com%2Fauth%2Fpeopleapi.readonly&response_type=code\n",
      "\n",
      "Enter your authorization code:\n",
      "··········\n",
      "Mounted at /content/drive\n"
     ]
    }
   ],
   "source": [
    "# Load the Drive helper and mount\n",
    "from google.colab import drive\n",
    "\n",
    "# This will prompt for authorization.\n",
    "drive.mount('/content/drive')"
   ]
  },
  {
   "cell_type": "code",
   "execution_count": 0,
   "metadata": {
    "id": "UQbAtqJ61i9t",
    "colab_type": "code",
    "outputId": "5f3fc974-e405-473e-9d7a-8af50db1073f",
    "colab": {
     "base_uri": "https://localhost:8080/",
     "height": 34.0
    }
   },
   "outputs": [
    {
     "name": "stderr",
     "output_type": "stream",
     "text": [
      "Using TensorFlow backend.\n"
     ]
    }
   ],
   "source": [
    "import pandas as pd\n",
    "from tqdm import tqdm\n",
    "import keras\n",
    "from keras.models import Sequential\n",
    "from keras.layers import Dense, Dropout, Flatten\n",
    "from keras.layers import Conv2D, MaxPooling2D\n",
    "from keras.layers.normalization import BatchNormalization\n",
    "from keras.utils import to_categorical\n",
    "from keras.preprocessing import image\n",
    "from keras.preprocessing.image import ImageDataGenerator\n",
    "import matplotlib.pyplot as plt\n",
    "from keras.callbacks import ModelCheckpoint\n",
    "from sklearn.model_selection import train_test_split\n",
    "from sklearn.metrics import roc_auc_score, roc_curve, f1_score\n",
    "import numpy as np\n",
    "import shutil\n",
    "import os"
   ]
  },
  {
   "cell_type": "code",
   "execution_count": 0,
   "metadata": {
    "id": "MFVlAgP_1i9z",
    "colab_type": "code",
    "outputId": "6a29ea98-c2da-4951-ba8a-cdbffbd01ea6",
    "colab": {
     "base_uri": "https://localhost:8080/",
     "height": 34.0
    }
   },
   "outputs": [
    {
     "data": {
      "text/plain": [
       "'/content'"
      ]
     },
     "execution_count": 4,
     "metadata": {
      "tags": []
     },
     "output_type": "execute_result"
    }
   ],
   "source": [
    "pwd"
   ]
  },
  {
   "cell_type": "code",
   "execution_count": 0,
   "metadata": {
    "id": "FSCh4UCFPkMm",
    "colab_type": "code",
    "outputId": "205eaae5-25c9-49ba-a546-729d1806d119",
    "colab": {
     "base_uri": "https://localhost:8080/",
     "height": 34.0
    }
   },
   "outputs": [
    {
     "name": "stdout",
     "output_type": "stream",
     "text": [
      "/\n"
     ]
    }
   ],
   "source": [
    "cd .."
   ]
  },
  {
   "cell_type": "code",
   "execution_count": 0,
   "metadata": {
    "id": "4hrJiGzkPnkz",
    "colab_type": "code",
    "outputId": "9341d668-c190-4541-9bf3-754a20739011",
    "colab": {
     "base_uri": "https://localhost:8080/",
     "height": 34.0
    }
   },
   "outputs": [
    {
     "name": "stdout",
     "output_type": "stream",
     "text": [
      "/content/drive/My Drive/Projects_content/Game of Deep Learning CV Hackathon of AV\n"
     ]
    }
   ],
   "source": [
    "cd content/drive/My\\ Drive/Projects_content/Game of Deep Learning CV Hackathon of AV"
   ]
  },
  {
   "cell_type": "code",
   "execution_count": 0,
   "metadata": {
    "id": "KJctk-l_4x-c",
    "colab_type": "code",
    "colab": {}
   },
   "outputs": [],
   "source": [
    "output_dir = 'model_output/CNNwithImageDataGenerator'\n",
    "seed = 7\n",
    "np.random.seed(seed)\n",
    "batch_size = 80"
   ]
  },
  {
   "cell_type": "code",
   "execution_count": 0,
   "metadata": {
    "id": "-a93PhKs1i-B",
    "colab_type": "code",
    "outputId": "5a9d5716-8972-4fcb-f99f-3cc6693cebd2",
    "colab": {
     "base_uri": "https://localhost:8080/",
     "height": 204.0
    }
   },
   "outputs": [
    {
     "data": {
      "text/html": [
       "<div>\n",
       "<style scoped>\n",
       "    .dataframe tbody tr th:only-of-type {\n",
       "        vertical-align: middle;\n",
       "    }\n",
       "\n",
       "    .dataframe tbody tr th {\n",
       "        vertical-align: top;\n",
       "    }\n",
       "\n",
       "    .dataframe thead th {\n",
       "        text-align: right;\n",
       "    }\n",
       "</style>\n",
       "<table border=\"1\" class=\"dataframe\">\n",
       "  <thead>\n",
       "    <tr style=\"text-align: right;\">\n",
       "      <th></th>\n",
       "      <th>image</th>\n",
       "      <th>category</th>\n",
       "    </tr>\n",
       "  </thead>\n",
       "  <tbody>\n",
       "    <tr>\n",
       "      <th>0</th>\n",
       "      <td>2823080.jpg</td>\n",
       "      <td>1</td>\n",
       "    </tr>\n",
       "    <tr>\n",
       "      <th>1</th>\n",
       "      <td>2870024.jpg</td>\n",
       "      <td>1</td>\n",
       "    </tr>\n",
       "    <tr>\n",
       "      <th>2</th>\n",
       "      <td>2662125.jpg</td>\n",
       "      <td>2</td>\n",
       "    </tr>\n",
       "    <tr>\n",
       "      <th>3</th>\n",
       "      <td>2900420.jpg</td>\n",
       "      <td>3</td>\n",
       "    </tr>\n",
       "    <tr>\n",
       "      <th>4</th>\n",
       "      <td>2804883.jpg</td>\n",
       "      <td>2</td>\n",
       "    </tr>\n",
       "  </tbody>\n",
       "</table>\n",
       "</div>"
      ],
      "text/plain": [
       "         image  category\n",
       "0  2823080.jpg         1\n",
       "1  2870024.jpg         1\n",
       "2  2662125.jpg         2\n",
       "3  2900420.jpg         3\n",
       "4  2804883.jpg         2"
      ]
     },
     "execution_count": 8,
     "metadata": {
      "tags": []
     },
     "output_type": "execute_result"
    }
   ],
   "source": [
    "train_df = pd.read_csv('train.csv')\n",
    "test_df = pd.read_csv('test_ApKoW4T.csv')\n",
    "train_df.head()\n"
   ]
  },
  {
   "cell_type": "code",
   "execution_count": 0,
   "metadata": {
    "id": "nFU32mSd1i-E",
    "colab_type": "code",
    "outputId": "0d9902ef-c3f9-4603-9152-9095818ef948",
    "colab": {
     "base_uri": "https://localhost:8080/",
     "height": 34.0
    }
   },
   "outputs": [
    {
     "data": {
      "text/plain": [
       "((2680, 1), (6252, 2))"
      ]
     },
     "execution_count": 9,
     "metadata": {
      "tags": []
     },
     "output_type": "execute_result"
    }
   ],
   "source": [
    "test_df.shape,train_df.shape"
   ]
  },
  {
   "cell_type": "code",
   "execution_count": 0,
   "metadata": {
    "id": "zxJxeDKY1i-K",
    "colab_type": "code",
    "outputId": "7a7020db-77ad-4252-9622-dc7d1890b88f",
    "colab": {
     "base_uri": "https://localhost:8080/",
     "height": 34.0
    }
   },
   "outputs": [
    {
     "data": {
      "text/plain": [
       "((1251, 2), (5001, 2))"
      ]
     },
     "execution_count": 10,
     "metadata": {
      "tags": []
     },
     "output_type": "execute_result"
    }
   ],
   "source": [
    "valid_df = train_df.iloc[int(train_df.shape[0]*(0.8)):,:]\n",
    "# valid_df = train_df.iloc[0:2,:]\n",
    "\n",
    "# valid_df.head()\n",
    "\n",
    "train_df = train_df.iloc[:int(train_df.shape[0]*(0.8)),:]\n",
    "valid_df.shape,train_df.shape"
   ]
  },
  {
   "cell_type": "code",
   "execution_count": 0,
   "metadata": {
    "id": "SoRjcVZp1i-O",
    "colab_type": "code",
    "outputId": "a65ebb03-8fcc-404d-b9b7-a8eb9cd4eff3",
    "colab": {
     "base_uri": "https://localhost:8080/",
     "height": 204.0
    }
   },
   "outputs": [
    {
     "data": {
      "text/html": [
       "<div>\n",
       "<style scoped>\n",
       "    .dataframe tbody tr th:only-of-type {\n",
       "        vertical-align: middle;\n",
       "    }\n",
       "\n",
       "    .dataframe tbody tr th {\n",
       "        vertical-align: top;\n",
       "    }\n",
       "\n",
       "    .dataframe thead th {\n",
       "        text-align: right;\n",
       "    }\n",
       "</style>\n",
       "<table border=\"1\" class=\"dataframe\">\n",
       "  <thead>\n",
       "    <tr style=\"text-align: right;\">\n",
       "      <th></th>\n",
       "      <th>image</th>\n",
       "      <th>category</th>\n",
       "    </tr>\n",
       "  </thead>\n",
       "  <tbody>\n",
       "    <tr>\n",
       "      <th>0</th>\n",
       "      <td>2806710.jpg</td>\n",
       "      <td>1</td>\n",
       "    </tr>\n",
       "    <tr>\n",
       "      <th>1</th>\n",
       "      <td>2812752.jpg</td>\n",
       "      <td>5</td>\n",
       "    </tr>\n",
       "    <tr>\n",
       "      <th>2</th>\n",
       "      <td>2805770.jpg</td>\n",
       "      <td>2</td>\n",
       "    </tr>\n",
       "    <tr>\n",
       "      <th>3</th>\n",
       "      <td>2656405.jpg</td>\n",
       "      <td>4</td>\n",
       "    </tr>\n",
       "    <tr>\n",
       "      <th>4</th>\n",
       "      <td>2904583.jpg</td>\n",
       "      <td>5</td>\n",
       "    </tr>\n",
       "  </tbody>\n",
       "</table>\n",
       "</div>"
      ],
      "text/plain": [
       "         image  category\n",
       "0  2806710.jpg         1\n",
       "1  2812752.jpg         5\n",
       "2  2805770.jpg         2\n",
       "3  2656405.jpg         4\n",
       "4  2904583.jpg         5"
      ]
     },
     "execution_count": 11,
     "metadata": {
      "tags": []
     },
     "output_type": "execute_result"
    }
   ],
   "source": [
    "valid_df = valid_df.reset_index(drop=True)\n",
    "valid_df.head()"
   ]
  },
  {
   "cell_type": "code",
   "execution_count": 0,
   "metadata": {
    "id": "8MZ3ihOz1i-U",
    "colab_type": "code",
    "outputId": "e2885df5-66dd-4221-f4b6-af24503aa69a",
    "colab": {
     "base_uri": "https://localhost:8080/",
     "height": 34.0
    }
   },
   "outputs": [
    {
     "name": "stdout",
     "output_type": "stream",
     "text": [
      "Folder already exist or some error\n"
     ]
    }
   ],
   "source": [
    "dst_fldr_Cargo = r\"images/train/Cargo\";\n",
    "dst_fldr_Military = r\"images/train/Military\";\n",
    "dst_fldr_Carrier = r\"images/train/Carrier\";\n",
    "dst_fldr_Cruise = r\"images/train/Cruise\";\n",
    "dst_fldr_Tankers = r\"images/train/Tankers\";\n",
    "\n",
    "dst_fldr_valid_Cargo = r\"images/valid/Cargo\";\n",
    "dst_fldr_valid_Military = r\"images/valid/Military\";\n",
    "dst_fldr_valid_Carrier = r\"images/valid/Carrier\";\n",
    "dst_fldr_valid_Cruise = r\"images/valid/Cruise\";\n",
    "dst_fldr_valid_Tankers = r\"images/valid/Tankers\";\n",
    "\n",
    "try:\n",
    "    os.makedirs(dst_fldr_Cargo); \n",
    "    os.makedirs(dst_fldr_Military);\n",
    "    os.makedirs(dst_fldr_Carrier);\n",
    "    os.makedirs(dst_fldr_Cruise);\n",
    "    os.makedirs(dst_fldr_Tankers);\n",
    "    os.makedirs(dst_fldr_valid_Cargo); \n",
    "    os.makedirs(dst_fldr_valid_Military);\n",
    "    os.makedirs(dst_fldr_valid_Carrier);\n",
    "    os.makedirs(dst_fldr_valid_Cruise);\n",
    "    os.makedirs(dst_fldr_valid_Tankers);\n",
    "except:\n",
    "    print (\"Folder already exist or some error\")\n"
   ]
  },
  {
   "cell_type": "code",
   "execution_count": 0,
   "metadata": {
    "id": "Kg_OzzxI1i-Z",
    "colab_type": "code",
    "outputId": "69389284-9a5e-4368-ea13-d28ececdc18a",
    "colab": {
     "base_uri": "https://localhost:8080/",
     "height": 68.0
    }
   },
   "outputs": [
    {
     "name": "stdout",
     "output_type": "stream",
     "text": [
      "Found 5001 images belonging to 5 classes.\n",
      "Found 1251 images belonging to 5 classes.\n",
      "Found 0 images belonging to 5 classes.\n"
     ]
    }
   ],
   "source": [
    "datagen = ImageDataGenerator(width_shift_range=0.2,height_shift_range=0.2,horizontal_flip=True,rotation_range=40,zoom_range=0.2,vertical_flip=True)\n",
    "train_it = datagen.flow_from_directory('images/train/',target_size=(250,250),classes=['Cargo','Carrier','Cruise','Military','Tankers'],batch_size=batch_size)\n",
    "val_it = datagen.flow_from_directory('images/valid/',target_size=(250,250),classes=['Cargo','Carrier','Cruise','Military','Tankers'],batch_size=batch_size)\n",
    "test_it = datagen.flow_from_directory('images/test/',target_size=(250,250),classes=['Cargo','Carrier','Cruise','Military','Tankers'],batch_size=batch_size)"
   ]
  },
  {
   "cell_type": "code",
   "execution_count": 0,
   "metadata": {
    "id": "trGubQdV7Cc8",
    "colab_type": "code",
    "outputId": "edcb52f3-d3de-4812-8dd0-4e6197f4605f",
    "colab": {
     "base_uri": "https://localhost:8080/",
     "height": 34.0
    }
   },
   "outputs": [
    {
     "name": "stdout",
     "output_type": "stream",
     "text": [
      "Batch shape=(80, 250, 250, 3), min=0.000, max=255.000\n"
     ]
    }
   ],
   "source": [
    "batchX, batchy = train_it.next()\n",
    "print('Batch shape=%s, min=%.3f, max=%.3f' % (batchX.shape, batchX.min(), batchX.max()))"
   ]
  },
  {
   "cell_type": "code",
   "execution_count": 0,
   "metadata": {
    "id": "4If9Tept7FDm",
    "colab_type": "code",
    "outputId": "a453d88d-38bf-49c3-8746-c08a9a800c7c",
    "colab": {
     "base_uri": "https://localhost:8080/",
     "height": 1000.0
    }
   },
   "outputs": [
    {
     "name": "stderr",
     "output_type": "stream",
     "text": [
      "WARNING: Logging before flag parsing goes to stderr.\n",
      "W0815 14:26:04.586457 140144899495808 deprecation_wrapper.py:119] From /usr/local/lib/python3.6/dist-packages/keras/backend/tensorflow_backend.py:74: The name tf.get_default_graph is deprecated. Please use tf.compat.v1.get_default_graph instead.\n",
      "\n",
      "W0815 14:26:04.637646 140144899495808 deprecation_wrapper.py:119] From /usr/local/lib/python3.6/dist-packages/keras/backend/tensorflow_backend.py:517: The name tf.placeholder is deprecated. Please use tf.compat.v1.placeholder instead.\n",
      "\n",
      "W0815 14:26:04.646906 140144899495808 deprecation_wrapper.py:119] From /usr/local/lib/python3.6/dist-packages/keras/backend/tensorflow_backend.py:4138: The name tf.random_uniform is deprecated. Please use tf.random.uniform instead.\n",
      "\n",
      "W0815 14:26:04.704660 140144899495808 deprecation_wrapper.py:119] From /usr/local/lib/python3.6/dist-packages/keras/backend/tensorflow_backend.py:3976: The name tf.nn.max_pool is deprecated. Please use tf.nn.max_pool2d instead.\n",
      "\n",
      "W0815 14:26:04.710825 140144899495808 deprecation_wrapper.py:119] From /usr/local/lib/python3.6/dist-packages/keras/backend/tensorflow_backend.py:133: The name tf.placeholder_with_default is deprecated. Please use tf.compat.v1.placeholder_with_default instead.\n",
      "\n",
      "W0815 14:26:04.721703 140144899495808 deprecation.py:506] From /usr/local/lib/python3.6/dist-packages/keras/backend/tensorflow_backend.py:3445: calling dropout (from tensorflow.python.ops.nn_ops) with keep_prob is deprecated and will be removed in a future version.\n",
      "Instructions for updating:\n",
      "Please use `rate` instead of `keep_prob`. Rate should be set to `rate = 1 - keep_prob`.\n"
     ]
    },
    {
     "name": "stdout",
     "output_type": "stream",
     "text": [
      "_________________________________________________________________\n",
      "Layer (type)                 Output Shape              Param #   \n",
      "=================================================================\n",
      "conv2d_1 (Conv2D)            (None, 248, 248, 64)      1792      \n",
      "_________________________________________________________________\n",
      "conv2d_2 (Conv2D)            (None, 246, 246, 64)      36928     \n",
      "_________________________________________________________________\n",
      "max_pooling2d_1 (MaxPooling2 (None, 123, 123, 64)      0         \n",
      "_________________________________________________________________\n",
      "dropout_1 (Dropout)          (None, 123, 123, 64)      0         \n",
      "_________________________________________________________________\n",
      "conv2d_3 (Conv2D)            (None, 121, 121, 128)     73856     \n",
      "_________________________________________________________________\n",
      "conv2d_4 (Conv2D)            (None, 119, 119, 128)     147584    \n",
      "_________________________________________________________________\n",
      "max_pooling2d_2 (MaxPooling2 (None, 59, 59, 128)       0         \n",
      "_________________________________________________________________\n",
      "dropout_2 (Dropout)          (None, 59, 59, 128)       0         \n",
      "_________________________________________________________________\n",
      "conv2d_5 (Conv2D)            (None, 57, 57, 256)       295168    \n",
      "_________________________________________________________________\n",
      "conv2d_6 (Conv2D)            (None, 55, 55, 256)       590080    \n",
      "_________________________________________________________________\n",
      "max_pooling2d_3 (MaxPooling2 (None, 27, 27, 256)       0         \n",
      "_________________________________________________________________\n",
      "dropout_3 (Dropout)          (None, 27, 27, 256)       0         \n",
      "_________________________________________________________________\n",
      "conv2d_7 (Conv2D)            (None, 25, 25, 256)       590080    \n",
      "_________________________________________________________________\n",
      "conv2d_8 (Conv2D)            (None, 23, 23, 256)       590080    \n",
      "_________________________________________________________________\n",
      "max_pooling2d_4 (MaxPooling2 (None, 11, 11, 256)       0         \n",
      "_________________________________________________________________\n",
      "dropout_4 (Dropout)          (None, 11, 11, 256)       0         \n",
      "_________________________________________________________________\n",
      "conv2d_9 (Conv2D)            (None, 9, 9, 256)         590080    \n",
      "_________________________________________________________________\n",
      "conv2d_10 (Conv2D)           (None, 7, 7, 256)         590080    \n",
      "_________________________________________________________________\n",
      "max_pooling2d_5 (MaxPooling2 (None, 3, 3, 256)         0         \n",
      "_________________________________________________________________\n",
      "dropout_5 (Dropout)          (None, 3, 3, 256)         0         \n",
      "_________________________________________________________________\n",
      "flatten_1 (Flatten)          (None, 2304)              0         \n",
      "_________________________________________________________________\n",
      "dense_1 (Dense)              (None, 128)               295040    \n",
      "_________________________________________________________________\n",
      "dropout_6 (Dropout)          (None, 128)               0         \n",
      "_________________________________________________________________\n",
      "dense_2 (Dense)              (None, 64)                8256      \n",
      "_________________________________________________________________\n",
      "dropout_7 (Dropout)          (None, 64)                0         \n",
      "_________________________________________________________________\n",
      "dense_3 (Dense)              (None, 5)                 325       \n",
      "=================================================================\n",
      "Total params: 3,809,349\n",
      "Trainable params: 3,809,349\n",
      "Non-trainable params: 0\n",
      "_________________________________________________________________\n"
     ]
    }
   ],
   "source": [
    "model = Sequential()\n",
    "model.add(Conv2D(filters=64, kernel_size=(3, 3), activation=\"relu\", input_shape=(250,250,3)))\n",
    "model.add(Conv2D(filters=64, kernel_size=(3, 3), activation='relu'))\n",
    "model.add(MaxPooling2D(pool_size=(2, 2)))\n",
    "model.add(Dropout(0.25))\n",
    "model.add(Conv2D(filters=128, kernel_size=(3, 3), activation='relu'))\n",
    "model.add(Conv2D(filters=128, kernel_size=(3, 3), activation='relu'))\n",
    "model.add(MaxPooling2D(pool_size=(2, 2)))\n",
    "model.add(Dropout(0.25))\n",
    "model.add(Conv2D(filters=256, kernel_size=(3, 3), activation=\"relu\"))\n",
    "model.add(Conv2D(filters=256, kernel_size=(3, 3), activation=\"relu\"))\n",
    "model.add(MaxPooling2D(pool_size=(2, 2)))\n",
    "model.add(Dropout(0.25))\n",
    "model.add(Conv2D(filters=256, kernel_size=(3, 3), activation='relu'))\n",
    "model.add(Conv2D(filters=256, kernel_size=(3, 3), activation=\"relu\"))\n",
    "model.add(MaxPooling2D(pool_size=(2, 2)))\n",
    "model.add(Dropout(0.25))\n",
    "model.add(Conv2D(filters=256, kernel_size=(3, 3), activation='relu'))\n",
    "model.add(Conv2D(filters=256, kernel_size=(3, 3), activation=\"relu\"))\n",
    "model.add(MaxPooling2D(pool_size=(2, 2)))\n",
    "model.add(Dropout(0.25))\n",
    "model.add(Flatten())\n",
    "model.add(Dense(128, activation='relu'))\n",
    "model.add(Dropout(0.5))\n",
    "model.add(Dense(64, activation='relu'))\n",
    "model.add(Dropout(0.5))\n",
    "model.add(Dense(5, activation='softmax'))\n",
    "model.summary()"
   ]
  },
  {
   "cell_type": "code",
   "execution_count": 0,
   "metadata": {
    "id": "jSEAGnWN4bnr",
    "colab_type": "code",
    "colab": {}
   },
   "outputs": [],
   "source": [
    "# modelcheckpoint = ModelCheckpoint(filepath=output_dir+\"/weights.{epoch:02d}.hdf5\",monitor='val_acc')\n",
    "modelcheckpoint = ModelCheckpoint(filepath=output_dir+\"/weights.best.hdf5\",monitor='val_acc',save_best_only=True, mode='max')\n",
    "\n",
    "if not os.path.exists(output_dir):\n",
    "    os.makedirs(output_dir)"
   ]
  },
  {
   "cell_type": "code",
   "execution_count": 0,
   "metadata": {
    "id": "8LrxrcFt7Hqb",
    "colab_type": "code",
    "outputId": "0ad5acb8-4c49-4075-bd1a-0e14122145ac",
    "colab": {
     "base_uri": "https://localhost:8080/",
     "height": 853.0
    }
   },
   "outputs": [
    {
     "name": "stderr",
     "output_type": "stream",
     "text": [
      "W0815 14:26:05.095323 140144899495808 deprecation_wrapper.py:119] From /usr/local/lib/python3.6/dist-packages/keras/optimizers.py:790: The name tf.train.Optimizer is deprecated. Please use tf.compat.v1.train.Optimizer instead.\n",
      "\n",
      "W0815 14:26:05.139169 140144899495808 deprecation_wrapper.py:119] From /usr/local/lib/python3.6/dist-packages/keras/backend/tensorflow_backend.py:3295: The name tf.log is deprecated. Please use tf.math.log instead.\n",
      "\n",
      "W0815 14:26:05.291925 140144899495808 deprecation.py:323] From /usr/local/lib/python3.6/dist-packages/tensorflow/python/ops/math_grad.py:1250: add_dispatch_support.<locals>.wrapper (from tensorflow.python.ops.array_ops) is deprecated and will be removed in a future version.\n",
      "Instructions for updating:\n",
      "Use tf.where in 2.0, which has the same broadcast rule as np.where\n"
     ]
    },
    {
     "name": "stdout",
     "output_type": "stream",
     "text": [
      "Epoch 1/20\n",
      "62/62 [==============================] - 2053s 33s/step - loss: 11.1296 - acc: 0.3077 - val_loss: 10.7112 - val_acc: 0.3355\n",
      "Epoch 2/20\n",
      "62/62 [==============================] - 144s 2s/step - loss: 10.9870 - acc: 0.3183 - val_loss: 11.2242 - val_acc: 0.3036\n",
      "Epoch 3/20\n",
      "62/62 [==============================] - 147s 2s/step - loss: 11.1271 - acc: 0.3097 - val_loss: 10.7317 - val_acc: 0.3342\n",
      "Epoch 4/20\n",
      "62/62 [==============================] - 144s 2s/step - loss: 10.9528 - acc: 0.3205 - val_loss: 10.8813 - val_acc: 0.3249\n",
      "Epoch 5/20\n",
      "62/62 [==============================] - 145s 2s/step - loss: 11.0876 - acc: 0.3121 - val_loss: 10.8138 - val_acc: 0.3291\n",
      "Epoch 6/20\n",
      "62/62 [==============================] - 145s 2s/step - loss: 11.1578 - acc: 0.3077 - val_loss: 10.8138 - val_acc: 0.3291\n",
      "Epoch 7/20\n",
      "62/62 [==============================] - 146s 2s/step - loss: 11.1637 - acc: 0.3074 - val_loss: 10.9882 - val_acc: 0.3183\n",
      "Epoch 8/20\n",
      "62/62 [==============================] - 146s 2s/step - loss: 10.9888 - acc: 0.3182 - val_loss: 10.9335 - val_acc: 0.3217\n",
      "Epoch 9/20\n",
      "62/62 [==============================] - 147s 2s/step - loss: 11.0733 - acc: 0.3130 - val_loss: 10.8446 - val_acc: 0.3272\n",
      "Epoch 10/20\n",
      "62/62 [==============================] - 146s 2s/step - loss: 10.8222 - acc: 0.3286 - val_loss: 10.8856 - val_acc: 0.3246\n",
      "Epoch 11/20\n",
      "62/62 [==============================] - 148s 2s/step - loss: 10.8293 - acc: 0.3281 - val_loss: 10.8959 - val_acc: 0.3240\n",
      "Epoch 12/20\n",
      "62/62 [==============================] - 145s 2s/step - loss: 10.9175 - acc: 0.3227 - val_loss: 10.9231 - val_acc: 0.3223\n",
      "Epoch 13/20\n",
      "62/62 [==============================] - 147s 2s/step - loss: 10.8921 - acc: 0.3242 - val_loss: 10.9574 - val_acc: 0.3202\n",
      "Epoch 14/20\n",
      "62/62 [==============================] - 146s 2s/step - loss: 10.7684 - acc: 0.3319 - val_loss: 10.8241 - val_acc: 0.3285\n",
      "Epoch 15/20\n",
      "62/62 [==============================] - 147s 2s/step - loss: 10.7487 - acc: 0.3331 - val_loss: 10.8138 - val_acc: 0.3291\n",
      "Epoch 16/20\n",
      "62/62 [==============================] - 145s 2s/step - loss: 10.9565 - acc: 0.3202 - val_loss: 10.9545 - val_acc: 0.3204\n",
      "Epoch 17/20\n",
      "62/62 [==============================] - 147s 2s/step - loss: 10.8393 - acc: 0.3275 - val_loss: 10.8138 - val_acc: 0.3291\n",
      "Epoch 18/20\n",
      "62/62 [==============================] - 146s 2s/step - loss: 10.8930 - acc: 0.3242 - val_loss: 10.9780 - val_acc: 0.3189\n",
      "Epoch 19/20\n",
      "62/62 [==============================] - 145s 2s/step - loss: 10.7650 - acc: 0.3321 - val_loss: 10.7625 - val_acc: 0.3323\n",
      "Epoch 20/20\n",
      "62/62 [==============================] - 142s 2s/step - loss: 10.8913 - acc: 0.3243 - val_loss: 10.9963 - val_acc: 0.3178\n"
     ]
    },
    {
     "data": {
      "text/plain": [
       "<keras.callbacks.History at 0x7f75b2e45898>"
      ]
     },
     "execution_count": 17,
     "metadata": {
      "tags": []
     },
     "output_type": "execute_result"
    }
   ],
   "source": [
    "model.compile(optimizer='adam', loss='categorical_crossentropy', metrics=['accuracy'])\n",
    "model.fit_generator(train_it, steps_per_epoch=train_df.shape[0]//batch_size, validation_data=val_it, validation_steps=20,epochs=20,use_multiprocessing=True,shuffle=True,callbacks=[modelcheckpoint])"
   ]
  },
  {
   "cell_type": "code",
   "execution_count": 0,
   "metadata": {
    "id": "1XbOGHEv1i-c",
    "colab_type": "code",
    "colab": {}
   },
   "outputs": [],
   "source": [
    "model.load_weights(output_dir+\"/weights.best.hdf5\") # zero-indexed"
   ]
  },
  {
   "cell_type": "code",
   "execution_count": 0,
   "metadata": {
    "id": "ueiWOeWSvxBd",
    "colab_type": "code",
    "colab": {}
   },
   "outputs": [],
   "source": [
    "pred = {}\n",
    "def predictions(imagepath,imagename):\n",
    "   \n",
    "#   print(imagepath,imagename)\n",
    "  img = image.load_img(imagepath,target_size=(250,250,3))\n",
    "#   plt.imshow(img)\n",
    "  img = image.img_to_array(img)\n",
    "  proba = model.predict(img.reshape(1,250,250,3))   \n",
    "  pred.update( {imagename : np.argmax(proba)+1} )  \n",
    "#   print(imagename,np.argmax(proba)+1)\n",
    "#   print(pred)\n",
    "  \n",
    "  "
   ]
  },
  {
   "cell_type": "code",
   "execution_count": 0,
   "metadata": {
    "id": "UpnHDzYVuupU",
    "colab_type": "code",
    "colab": {}
   },
   "outputs": [],
   "source": [
    "for id in range(valid_df.shape[0]):\n",
    "  if (os.path.isfile(os.path.join(dst_fldr_valid_Cargo,valid_df['image'][id]))):    \n",
    "      predictions(os.path.join(dst_fldr_valid_Cargo,valid_df['image'][id]),valid_df['image'][id])      \n",
    "  elif (os.path.isfile(os.path.join(dst_fldr_valid_Military,valid_df['image'][id]))):\n",
    "        predictions(os.path.join(dst_fldr_valid_Military,valid_df['image'][id]),valid_df['image'][id])\n",
    "  elif (os.path.isfile(os.path.join(dst_fldr_valid_Carrier,valid_df['image'][id]))):\n",
    "        predictions(os.path.join(dst_fldr_valid_Carrier,valid_df['image'][id]),valid_df['image'][id])\n",
    "  elif (os.path.isfile(os.path.join(dst_fldr_valid_Cruise,valid_df['image'][id]))):\n",
    "        predictions(os.path.join(dst_fldr_valid_Cruise,valid_df['image'][id]),valid_df['image'][id])\n",
    "  elif (os.path.isfile(os.path.join(dst_fldr_valid_Tankers,valid_df['image'][id]))):\n",
    "        predictions(os.path.join(dst_fldr_valid_Tankers,valid_df['image'][id]),valid_df['image'][id])                \n",
    "        \n",
    "      "
   ]
  },
  {
   "cell_type": "code",
   "execution_count": 0,
   "metadata": {
    "id": "wTpVpNMh44ge",
    "colab_type": "code",
    "colab": {}
   },
   "outputs": [],
   "source": [
    "pred_df = pd.DataFrame(list(pred.items()), columns=['Image', 'prediction'])\n",
    "pred_df.head()\n",
    "y_hat = pred_df['prediction']\n",
    "y_valid = valid_df['category']"
   ]
  },
  {
   "cell_type": "code",
   "execution_count": 0,
   "metadata": {
    "id": "Wi_jZdfw7px7",
    "colab_type": "code",
    "outputId": "ddf8a8af-6472-463e-8cf7-6c0f01525c95",
    "colab": {
     "base_uri": "https://localhost:8080/",
     "height": 34.0
    }
   },
   "outputs": [
    {
     "name": "stdout",
     "output_type": "stream",
     "text": [
      "0.32454036770583533\n"
     ]
    }
   ],
   "source": [
    "_val_f1 = f1_score(y_valid, y_hat,average='micro')\n",
    "print(_val_f1)"
   ]
  },
  {
   "cell_type": "code",
   "execution_count": 0,
   "metadata": {
    "id": "XnzTTv4j1i-o",
    "colab_type": "code",
    "colab": {}
   },
   "outputs": [],
   "source": [
    "# model = Sequential()\n",
    "# model.add(Conv2D(filters=16, kernel_size=(5, 5), activation=\"relu\", input_shape=(300,300,3)))\n",
    "# model.add(MaxPooling2D(pool_size=(2, 2)))\n",
    "# model.add(Dropout(0.25))\n",
    "# # model.add(Conv2D(filters=32, kernel_size=(5, 5), activation='relu'))\n",
    "# # model.add(MaxPooling2D(pool_size=(2, 2)))\n",
    "# # model.add(Dropout(0.25))\n",
    "# # model.add(Conv2D(filters=64, kernel_size=(5, 5), activation=\"relu\"))\n",
    "# # model.add(MaxPooling2D(pool_size=(2, 2)))\n",
    "# # model.add(Dropout(0.25))\n",
    "# # model.add(Conv2D(filters=64, kernel_size=(5, 5), activation='relu'))\n",
    "# # model.add(MaxPooling2D(pool_size=(2, 2)))\n",
    "# # model.add(Dropout(0.25))\n",
    "# model.add(Flatten())\n",
    "# model.add(Dense(128, activation='relu'))\n",
    "# model.add(Dropout(0.5))\n",
    "# model.add(Dense(64, activation='relu'))\n",
    "# model.add(Dropout(0.5))\n",
    "# model.add(Dense(6, activation='softmax'))"
   ]
  },
  {
   "cell_type": "code",
   "execution_count": 0,
   "metadata": {
    "id": "5CWv71DG1i-r",
    "colab_type": "code",
    "colab": {}
   },
   "outputs": [],
   "source": [
    "# model.summary()"
   ]
  },
  {
   "cell_type": "code",
   "execution_count": 0,
   "metadata": {
    "id": "9hpUb3cv1i-v",
    "colab_type": "code",
    "colab": {}
   },
   "outputs": [],
   "source": [
    "# model.compile(optimizer='adam', loss='binary_crossentropy', metrics=['accuracy'])"
   ]
  },
  {
   "cell_type": "code",
   "execution_count": 0,
   "metadata": {
    "id": "9Yr22Yq81i-0",
    "colab_type": "code",
    "colab": {}
   },
   "outputs": [],
   "source": [
    "# model.fit(X_train, y_train, epochs=10, validation_data=(X_test, y_test), batch_size=64)"
   ]
  },
  {
   "cell_type": "code",
   "execution_count": 0,
   "metadata": {
    "id": "QfUc931v1i-7",
    "colab_type": "code",
    "colab": {}
   },
   "outputs": [],
   "source": [
    ""
   ]
  }
 ],
 "metadata": {
  "colab": {
   "name": "AV Game of Deep Learning Hackathon.ipynb",
   "version": "0.3.2",
   "provenance": [],
   "collapsed_sections": []
  },
  "language_info": {
   "codemirror_mode": {
    "name": "ipython",
    "version": 3
   },
   "file_extension": ".py",
   "mimetype": "text/x-python",
   "name": "python",
   "nbconvert_exporter": "python",
   "pygments_lexer": "ipython3",
   "version": "3.6.3"
  },
  "kernelspec": {
   "name": "python3",
   "display_name": "Python 3"
  },
  "accelerator": "GPU"
 },
 "nbformat": 4,
 "nbformat_minor": 0
}
